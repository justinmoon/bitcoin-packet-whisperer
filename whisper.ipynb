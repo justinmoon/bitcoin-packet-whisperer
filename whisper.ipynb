{
 "cells": [
  {
   "cell_type": "code",
   "execution_count": 5,
   "metadata": {},
   "outputs": [
    {
     "name": "stdout",
     "output_type": "stream",
     "text": [
      "Sent \"ver\" message\n",
      "Received \"ver\" message\n",
      "Received \"verack\" message\n",
      "Sent \"verack\" message\n",
      "msg_inv(inv=[CInv(type=TX hash=f56951654d16111a67fc54826b4aaea06beaa0bced6a5bb60b88f1e53ab28da4), CInv(type=TX hash=00eb5656540de2bf33acd2c24d02b54be53333ac7880df38ffe38f13d3af8e4b), CInv(type=TX hash=7e0cb4977597bdf7ef579ba98c22739c321b40501226e25928e0458ea4aed625), CInv(type=TX hash=63e6a4b39ae387582a68f4a4704f07922180d50e20a60d32b8bca5b0f052eab6), CInv(type=TX hash=47044c086fe67b8ca52cf81abb878383ba7e26d84617492470e12a95e1fd6581), CInv(type=TX hash=d46469edc83a4f1bdeecb5027d1f51f0ec08262815a752ce2b153aa97d192e09), CInv(type=TX hash=97897ee5eef825d5edd2baaff1eded390bd394bf4d86e8b381d2d7276c4d70a3), CInv(type=TX hash=bc401788bb1f02165a367ebbe68b71ff928b391a883e5ec7ad7c4c49f7936eb1), CInv(type=TX hash=fd2c8b62be8d3517c82fa4ef86eb751b82781e4ea3402a254726ff5d1be01deb), CInv(type=TX hash=e7e50ef4822f31e61cea52ec6ff8fb4114d9624d8151126b07bcddd8b2f2e0fb), CInv(type=TX hash=fe0b516b014986f2976f5b5563e14b57e1bf0f4bf3dd1b1dab34994af20e6522), CInv(type=TX hash=7ecde54b0291291c92e026639179cb705a6fbe37d8d04b488e95db9153e1ce90), CInv(type=TX hash=4df698455dca7b716e74df0b619741f12f536bc696ef118f06a4497d377fe615), CInv(type=TX hash=e4d63bc65015b4ea69b7442b2219de3392f81ff7bb65281695cd05ef2ef3d3d5), CInv(type=TX hash=f8d44f264341a760227a83c35d19a5bdf7e7bba6f47286826175a80633179619), CInv(type=TX hash=0b7f27a29f1a27d32111c6b801b6cfc657388d5aa91dd594ef869151ff8d2e3a), CInv(type=TX hash=92c06e896bf33b62e3c529cf4b8135d8a549d2c7dc9d12120be684f82b843d6b), CInv(type=TX hash=aa89d931f38f8b63113dca13ea3fa93a4c2898db5825b88b5b87555124ac8193)])\n"
     ]
    }
   ],
   "source": [
    "import whisper as w\n",
    "from bitcoin.net import CAddress, CInv\n",
    "from bitcoin.messages import MsgSerializable\n",
    "\n",
    "\n",
    "inv = CInv()\n",
    "inv.type = 1\n",
    "inv.hash = b'b28bb67a4d0a5625094615996087a37efd407dd18452c4e5f46fff664563c62f'\n",
    "\n",
    "inv_vec = [inv]\n",
    "\n",
    "pkt = w.getdata_pkt(inv_vec)\n",
    "\n",
    "s = w.connect()\n",
    "# s.send(pkt.to_bytes())\n",
    "\n",
    "data = s.recv(1024)\n",
    "msg = MsgSerializable.from_bytes(data)\n",
    "print(msg)"
   ]
  }
 ],
 "metadata": {
  "kernelspec": {
   "display_name": "Python 3",
   "language": "python",
   "name": "python3"
  },
  "language_info": {
   "codemirror_mode": {
    "name": "ipython",
    "version": 3
   },
   "file_extension": ".py",
   "mimetype": "text/x-python",
   "name": "python",
   "nbconvert_exporter": "python",
   "pygments_lexer": "ipython3",
   "version": "3.6.5"
  }
 },
 "nbformat": 4,
 "nbformat_minor": 2
}
